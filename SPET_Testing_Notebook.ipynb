{
 "cells": [
  {
   "cell_type": "code",
   "execution_count": 3,
   "metadata": {},
   "outputs": [
    {
     "name": "stdout",
     "output_type": "stream",
     "text": [
      "Adwy   13/02/2022 20:31:16\n"
     ]
    }
   ],
   "source": [
    "#"
   ]
  },
  {
   "attachments": {},
   "cell_type": "markdown",
   "metadata": {},
   "source": [
    "### SPET Design testing Notebook\n",
    "\n",
    " <b>SPET:</b> Single primer enrichment technology depends on the distance between the target SNP and the designed probes. \n",
    "    \n",
    " Core technology for Targeted Genotyping designs that comes with the Allegro NGS library Systems from Tecan Genomics.\n",
    " \n",
    "<a href=\"https://lifesciences.tecan.com/allegro-targeted-genotyping-v2?p=tab--2\">Read more here</a>\n",
    "\n",
    "### AllegroQC package\n",
    "\n",
    " This Distribution Package aims at testing the success of the SPET design for Allegro products.\n",
    " \n",
    " In this Notebook I list the commands used to run a test, and interpred the success of the target .. probe distances\n",
    " \n",
    " <font size=\"3\" color=\"blue\"><b>1) Clone the Repo</b></font>\n",
    " ```\n",
    " git clone https://github.com/AdWY21/allegro_QC.git\n",
    " ```\n",
    "\n",
    "  <font size=\"3\" color=\"blue\"><b>2) Unzip the distribution Package</b></font>\n",
    " ```\n",
    " unzip SPET_QC.zip\n",
    " ```\n",
    "  <font size=\"3\" color=\"blue\"><b>3) Navigate to the package folder</b></font>\n",
    " "
   ]
  },
  {
   "cell_type": "code",
   "execution_count": 5,
   "metadata": {},
   "outputs": [
    {
     "name": "stdout",
     "output_type": "stream",
     "text": [
      "total 368348\n",
      "-rwxr-xr-x 1 adwy adwy 377177200 Feb 12 19:20 allegro_QC\n",
      "drwxrwxr-x 2 adwy adwy      4096 Feb 13 20:11 test\n"
     ]
    }
   ],
   "source": [
    "%%bash \n",
    "cd SPET_QC/dist\n",
    "ls -l"
   ]
  },
  {
   "cell_type": "markdown",
   "metadata": {},
   "source": [
    "  <font size=\"3\" color=\"blue\"><b>4) Command structure</b></font>\n",
    "```\n",
    "./allegro_QC -start -qcPass <Name_for_Results_Directory> <path_to_target_SNPs_bed_file> <path_to_probe_bed_file>\n",
    "```\n",
    "\n",
    "  <font size=\"3\" color=\"blue\"><b>5) Provided here are; two test runs</b></font>\n",
    "\n"
   ]
  },
  {
   "cell_type": "markdown",
   "metadata": {},
   "source": [
    "### (A) Testing a <font color=\"red\"><u>wrong</u></font> design - design without any SPET success"
   ]
  },
  {
   "cell_type": "code",
   "execution_count": 9,
   "metadata": {},
   "outputs": [
    {
     "name": "stdout",
     "output_type": "stream",
     "text": [
      "\n",
      "QC check for Allegro pipeline\n",
      "-----------------------------\n",
      "\n",
      "Description:\n",
      "===========\n",
      "\n",
      "script returns (1) stats summary (2) plots about the distance between designed SPET probes and target SNPs this can be used for fast check of arguments and \n",
      "settings used to build the allegro designs\n",
      " the output is exported to a results directory tagged with date and time for job given \n",
      "\n",
      "\n",
      "Developer:\n",
      "**********\n",
      "\n",
      "Script and standalone application were developed by Dr. Waly Adwy: https://www.linkedin.com/in/adwy/\n",
      "\n",
      "\n",
      "welcome to allegro QC\n",
      "\n",
      "\n",
      "inputs are target and probes bed files and a design ID\n",
      "\n",
      "\n",
      "STATS                      # of SPET/SNP      #Drop  Drop%\n",
      "-------------------------  ---------------  -------  -------\n",
      "DesignID                   No_SPET\n",
      "#Target SNPs               13332\n",
      "Total # of SPET probes:    23579\n",
      "#SPET probes on + Strand:  11739               1593  12.0 %\n",
      "#SPET probes on - Strand:  11840               1492  11.0 %\n",
      "\n",
      "\n",
      "\n",
      "\n",
      "\n",
      "\n",
      "summary for probe..SNP distances:\n",
      "________________________________\n",
      "\n",
      "\n",
      "Stats for SPET probes +\n",
      "-----------------------\n",
      "           fw_e_SNP\n",
      "count  11739.000000\n",
      "mean     129.367663\n",
      "std       25.075506\n",
      "min        2.000000\n",
      "25%      125.000000\n",
      "50%      134.000000\n",
      "75%      141.000000\n",
      "max      176.000000\n",
      "\n",
      "\n",
      "Stats for SPET probes -\n",
      "-----------------------\n",
      "           rv_e_SNP\n",
      "count  11840.000000\n",
      "mean     126.859966\n",
      "std       26.462106\n",
      "min        1.000000\n",
      "25%      123.000000\n",
      "50%      131.000000\n",
      "75%      140.000000\n",
      "max      175.000000\n",
      "\n",
      "\n",
      "exports:\n",
      "-------\n",
      "\n",
      "--------------------  --------------------------------------------------------------------------------------------------------------------------------------------------------------\n",
      "results exported to:  /home/adwy/Backup_shared/Tecan/Checking_off_target_Allegro_Design/allegroQC/final_compile/test_automation/compiling/compressing/SPET_QC/dist/No_SPET_QCresults\n"
     ]
    }
   ],
   "source": [
    "%%bash \n",
    "cd SPET_QC/dist\n",
    "QC_data=\"No_SPET.log\"\n",
    "./allegro_QC -start -qcPass No_SPET test/Test_targets.bed test/probesets_NO_SPET.bed | tee $QC_data"
   ]
  },
  {
   "cell_type": "code",
   "execution_count": 14,
   "metadata": {},
   "outputs": [
    {
     "name": "stdout",
     "output_type": "stream",
     "text": [
      "total 1976\n",
      "-rw-rw-r-- 1 adwy adwy  16073 Feb 13 20:37 No_SPET_SPET_FW_plot.pdf\n",
      "-rw-rw-r-- 1 adwy adwy 987833 Feb 13 20:37 No_SPET_SPET_FW.txt\n",
      "-rw-rw-r-- 1 adwy adwy  16336 Feb 13 20:37 No_SPET_SPET_RV_plot.pdf\n",
      "-rw-rw-r-- 1 adwy adwy 996216 Feb 13 20:37 No_SPET_SPET_RV.txt\n"
     ]
    }
   ],
   "source": [
    "%%bash \n",
    "ls -l SPET_QC/dist/No_SPET_QCresults"
   ]
  },
  {
   "cell_type": "markdown",
   "metadata": {},
   "source": [
    "#### Comments\n",
    "\n",
    " STATS describe mean and quartiles having probes covering SNPs at specific distance .. for example: above stats for FW probes points to >=75% of probes had distances of 141 bp to target SNPs - note the probe size is not calculated (40bp) , this sums to 171bp. \n",
    " \n",
    " #### This Table:\n",
    " ```\n",
    " STATS                      # of SPET/SNP      #Drop  Drop%\n",
    "-------------------------  ---------------  -------  -------\n",
    "DesignID                   No_SPET\n",
    "#Target SNPs               13332\n",
    "Total # of SPET probes:    23579\n",
    "#SPET probes on + Strand:  11739               1593  12.0 %\n",
    "#SPET probes on - Strand:  11840               1492  11.0 %\n",
    "```\n",
    "\n",
    "counts the probes covering target SNPs on both strands, and number of SNPs missed in probe coverages \"drops\"\n",
    "\n",
    "Hitogram plots are found in the Results folder and exported as PDFs - \n",
    "\n",
    "##### Plotting here again:"
   ]
  },
  {
   "cell_type": "code",
   "execution_count": 10,
   "metadata": {},
   "outputs": [
    {
     "data": {
      "image/png": "[encoded data removed]"
     },
     "metadata": {},
     "output_type": "display_data"
    },
    {
     "data": {
      "text/plain": [
       "array([  1.        , 123.        , 131.        , 126.85996622,\n",
       "       140.        , 175.        ])"
      ]
     },
     "execution_count": 10,
     "metadata": {},
     "output_type": "execute_result"
    }
   ],
   "source": [
    "#"
   ]
  },
  {
   "cell_type": "markdown",
   "metadata": {},
   "source": [
    "### (B) Testing  <font color=\"green\"><u>Correct</u></font> design - design with SPET success"
   ]
  },
  {
   "cell_type": "code",
   "execution_count": 11,
   "metadata": {},
   "outputs": [
    {
     "name": "stdout",
     "output_type": "stream",
     "text": [
      "\n",
      "QC check for Allegro pipeline\n",
      "-----------------------------\n",
      "\n",
      "Description:\n",
      "===========\n",
      "\n",
      "script returns (1) stats summary (2) plots about the distance between designed SPET probes and target SNPs this can be used for fast check of arguments and \n",
      "settings used to build the allegro designs\n",
      " the output is exported to a results directory tagged with date and time for job given \n",
      "\n",
      "\n",
      "Developer:\n",
      "**********\n",
      "\n",
      "Script and standalone application were developed by Dr. Waly Adwy: https://www.linkedin.com/in/adwy/\n",
      "\n",
      "\n",
      "welcome to allegro QC\n",
      "\n",
      "\n",
      "inputs are target and probes bed files and a design ID\n",
      "\n",
      "\n",
      "STATS                      # of SPET/SNP      #Drop  Drop%\n",
      "-------------------------  ---------------  -------  -------\n",
      "DesignID                   correct_SPET\n",
      "#Target SNPs               13332\n",
      "Total # of SPET probes:    21378\n",
      "#SPET probes on + Strand:  10666               2666  20.0 %\n",
      "#SPET probes on - Strand:  10712               2620  20.0 %\n",
      "\n",
      "\n",
      "\n",
      "\n",
      "\n",
      "\n",
      "summary for probe..SNP distances:\n",
      "________________________________\n",
      "\n",
      "\n",
      "Stats for SPET probes +\n",
      "-----------------------\n",
      "          fw_e_SNP\n",
      "count  10666.00000\n",
      "mean      15.05916\n",
      "std        7.96218\n",
      "min        2.00000\n",
      "25%        8.00000\n",
      "50%       16.00000\n",
      "75%       22.00000\n",
      "max       56.00000\n",
      "\n",
      "\n",
      "Stats for SPET probes -\n",
      "-----------------------\n",
      "           rv_e_SNP\n",
      "count  10712.000000\n",
      "mean      13.346807\n",
      "std        8.430224\n",
      "min        1.000000\n",
      "25%        5.000000\n",
      "50%       14.000000\n",
      "75%       21.000000\n",
      "max       55.000000\n",
      "\n",
      "\n",
      "exports:\n",
      "-------\n",
      "\n",
      "--------------------  -------------------------------------------------------------------------------------------------------------------------------------------------------------------\n",
      "results exported to:  /home/adwy/Backup_shared/Tecan/Checking_off_target_Allegro_Design/allegroQC/final_compile/test_automation/compiling/compressing/SPET_QC/dist/correct_SPET_QCresults\n"
     ]
    }
   ],
   "source": [
    "%%bash \n",
    "cd SPET_QC/dist\n",
    "QC_data=\"Correct_SPET.log\"\n",
    "./allegro_QC -start -qcPass correct_SPET test/Test_targets.bed test/probesets_corrected_SPET.bed | tee $QC_data"
   ]
  },
  {
   "cell_type": "markdown",
   "metadata": {},
   "source": [
    "#### Comments\n",
    "\n",
    " Notice the corrected average and 75% quartile distances between the target SNPs and covering probes, where max distance between SNP and target probe is not more than 55bp in all probe sets (sum= 21378)"
   ]
  },
  {
   "cell_type": "code",
   "execution_count": 16,
   "metadata": {},
   "outputs": [
    {
     "data": {
      "image/png": "[encoded data removed]"
     },
     "metadata": {},
     "output_type": "display_data"
    },
    {
     "data": {
      "text/plain": [
       "array([ 1.        ,  5.        , 14.        , 13.34680732, 21.        ,\n",
       "       55.        ])"
      ]
     },
     "execution_count": 16,
     "metadata": {},
     "output_type": "execute_result"
    }
   ],
   "source": [
    "#"
   ]
  },
  {
   "cell_type": "markdown",
   "metadata": {},
   "source": [
    "##### Need help or support?\n",
    "\n",
    "<font color=\"gray\">Reach out here: <b>waly.essam.adwy@gmail.com</b></font>"
   ]
  }
 ],
 "metadata": {
  "kernelspec": {
   "display_name": "Python 2",
   "language": "python",
   "name": "python2"
  },
  "language_info": {
   "codemirror_mode": {
    "name": "ipython",
    "version": 2
   },
   "file_extension": ".py",
   "mimetype": "text/x-python",
   "name": "python",
   "nbconvert_exporter": "python",
   "pygments_lexer": "ipython2",
   "version": "2.7.16"
  }
 },
 "nbformat": 4,
 "nbformat_minor": 2
}
